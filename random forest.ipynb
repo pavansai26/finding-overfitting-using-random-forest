{
 "cells": [
  {
   "cell_type": "code",
   "execution_count": 1,
   "metadata": {},
   "outputs": [],
   "source": [
    "import numpy as np\n",
    "import pandas as pd\n",
    "from pandas_profiling import ProfileReport\n",
    "import matplotlib.pyplot as plt\n",
    "from sklearn.ensemble import RandomForestClassifier\n",
    "from sklearn.ensemble import RandomForestRegressor\n",
    "from sklearn.model_selection import train_test_split # Import train_test_split function\n",
    "from sklearn import metrics #Import scikit-learn metrics module for accuracy calculation\n",
    "import seaborn as sns"
   ]
  },
  {
   "cell_type": "code",
   "execution_count": 2,
   "metadata": {},
   "outputs": [],
   "source": [
    "data=pd.read_csv('diabetes.csv')import numpy as np\n",
    "import pandas as pd\n",
    "from pandas_profiling import ProfileReport\n",
    "import matplotlib.pyplot as plt\n",
    "from sklearn.ensemble import RandomForestClassifier\n",
    "from sklearn.ensemble import RandomForestRegressor\n",
    "from sklearn.model_selection import train_test_split # Import train_test_split function\n",
    "from sklearn import metrics #Import scikit-learn metrics module for accuracy calculation\n",
    "import seaborn as sns"
   ]
  },
  {
   "cell_type": "code",
   "execution_count": 3,
   "metadata": {},
   "outputs": [
    {
     "data": {
      "text/plain": [
       "Index(['Pregnancies', 'Glucose', 'BloodPressure', 'SkinThickness', 'Insulin',\n",
       "       'BMI', 'DiabetesPedigreeFunction', 'Age', 'Outcome'],\n",
       "      dtype='object')"
      ]
     },
     "execution_count": 3,
     "metadata": {},
     "output_type": "execute_result"
    }
   ],
   "source": [
    "data.columns"
   ]
  },
  {
   "cell_type": "code",
   "execution_count": 4,
   "metadata": {},
   "outputs": [],
   "source": [
    "data_x=data[[col for col in data.columns if col!='Outcome']]\n",
    "data_y=data['Outcome']"
   ]
  },
  {
   "cell_type": "code",
   "execution_count": 5,
   "metadata": {},
   "outputs": [
    {
     "data": {
      "text/html": [
       "<div>\n",
       "<style scoped>\n",
       "    .dataframe tbody tr th:only-of-type {\n",
       "        vertical-align: middle;\n",
       "    }\n",
       "\n",
       "    .dataframe tbody tr th {\n",
       "        vertical-align: top;\n",
       "    }\n",
       "\n",
       "    .dataframe thead th {\n",
       "        text-align: right;\n",
       "    }\n",
       "</style>\n",
       "<table border=\"1\" class=\"dataframe\">\n",
       "  <thead>\n",
       "    <tr style=\"text-align: right;\">\n",
       "      <th></th>\n",
       "      <th>Pregnancies</th>\n",
       "      <th>Glucose</th>\n",
       "      <th>BloodPressure</th>\n",
       "      <th>SkinThickness</th>\n",
       "      <th>Insulin</th>\n",
       "      <th>BMI</th>\n",
       "      <th>DiabetesPedigreeFunction</th>\n",
       "      <th>Age</th>\n",
       "    </tr>\n",
       "  </thead>\n",
       "  <tbody>\n",
       "    <tr>\n",
       "      <th>0</th>\n",
       "      <td>6</td>\n",
       "      <td>148</td>\n",
       "      <td>72</td>\n",
       "      <td>35</td>\n",
       "      <td>0</td>\n",
       "      <td>33.6</td>\n",
       "      <td>0.627</td>\n",
       "      <td>50</td>\n",
       "    </tr>\n",
       "  </tbody>\n",
       "</table>\n",
       "</div>"
      ],
      "text/plain": [
       "   Pregnancies  Glucose  BloodPressure  SkinThickness  Insulin   BMI  \\\n",
       "0            6      148             72             35        0  33.6   \n",
       "\n",
       "   DiabetesPedigreeFunction  Age  \n",
       "0                     0.627   50  "
      ]
     },
     "execution_count": 5,
     "metadata": {},
     "output_type": "execute_result"
    }
   ],
   "source": [
    "data_x.head(1)"
   ]
  },
  {
   "cell_type": "code",
   "execution_count": 6,
   "metadata": {},
   "outputs": [
    {
     "data": {
      "text/plain": [
       "0    1\n",
       "Name: Outcome, dtype: int64"
      ]
     },
     "execution_count": 6,
     "metadata": {},
     "output_type": "execute_result"
    }
   ],
   "source": [
    "data_y.head(1)"
   ]
  },
  {
   "cell_type": "code",
   "execution_count": 7,
   "metadata": {},
   "outputs": [],
   "source": [
    "x_train,x_test,y_train,y_test=train_test_split(data_x,data_y,test_size=0.3)"
   ]
  },
  {
   "cell_type": "code",
   "execution_count": 8,
   "metadata": {},
   "outputs": [
    {
     "name": "stdout",
     "output_type": "stream",
     "text": [
      "Wall time: 0 ns\n"
     ]
    }
   ],
   "source": [
    "%time model=RandomForestClassifier(1000)"
   ]
  },
  {
   "cell_type": "code",
   "execution_count": 9,
   "metadata": {},
   "outputs": [
    {
     "data": {
      "text/plain": [
       "RandomForestClassifier(bootstrap=True, class_weight=None, criterion='gini',\n",
       "            max_depth=None, max_features='auto', max_leaf_nodes=None,\n",
       "            min_impurity_decrease=0.0, min_impurity_split=None,\n",
       "            min_samples_leaf=1, min_samples_split=2,\n",
       "            min_weight_fraction_leaf=0.0, n_estimators=1000, n_jobs=None,\n",
       "            oob_score=False, random_state=None, verbose=0,\n",
       "            warm_start=False)"
      ]
     },
     "execution_count": 9,
     "metadata": {},
     "output_type": "execute_result"
    }
   ],
   "source": [
    "model.fit(x_train,y_train)"
   ]
  },
  {
   "cell_type": "code",
   "execution_count": 10,
   "metadata": {},
   "outputs": [],
   "source": [
    "pred=model.predict(x_test)"
   ]
  },
  {
   "cell_type": "code",
   "execution_count": 11,
   "metadata": {},
   "outputs": [
    {
     "data": {
      "text/plain": [
       "0.7316017316017316"
      ]
     },
     "execution_count": 11,
     "metadata": {},
     "output_type": "execute_result"
    }
   ],
   "source": [
    "metrics.accuracy_score(y_test,pred)"
   ]
  },
  {
   "cell_type": "code",
   "execution_count": 12,
   "metadata": {},
   "outputs": [],
   "source": [
    "from sklearn.tree import DecisionTreeClassifier\n",
    "model1=DecisionTreeClassifier()"
   ]
  },
  {
   "cell_type": "code",
   "execution_count": 13,
   "metadata": {},
   "outputs": [
    {
     "name": "stdout",
     "output_type": "stream",
     "text": [
      "Wall time: 31.2 ms\n"
     ]
    },
    {
     "data": {
      "text/plain": [
       "DecisionTreeClassifier(class_weight=None, criterion='gini', max_depth=None,\n",
       "            max_features=None, max_leaf_nodes=None,\n",
       "            min_impurity_decrease=0.0, min_impurity_split=None,\n",
       "            min_samples_leaf=1, min_samples_split=2,\n",
       "            min_weight_fraction_leaf=0.0, presort=False, random_state=None,\n",
       "            splitter='best')"
      ]
     },
     "execution_count": 13,
     "metadata": {},
     "output_type": "execute_result"
    }
   ],
   "source": [
    "%time model1.fit(x_train,y_train)"
   ]
  },
  {
   "cell_type": "code",
   "execution_count": 14,
   "metadata": {},
   "outputs": [
    {
     "data": {
      "text/plain": [
       "0.6666666666666666"
      ]
     },
     "execution_count": 14,
     "metadata": {},
     "output_type": "execute_result"
    }
   ],
   "source": [
    "metrics.accuracy_score(y_test,model1.predict(x_test))"
   ]
  },
  {
   "cell_type": "code",
   "execution_count": 15,
   "metadata": {},
   "outputs": [
    {
     "name": "stdout",
     "output_type": "stream",
     "text": [
      "0.7056277056277056\n",
      "0.7359307359307359\n",
      "0.6493506493506493\n",
      "0.6796536796536796\n",
      "0.7056277056277056\n",
      "0.6623376623376623\n",
      "0.6926406926406926\n",
      "0.6493506493506493\n",
      "0.7316017316017316\n",
      "0.7229437229437229\n"
     ]
    }
   ],
   "source": [
    "for i in range(10):\n",
    "    x_train,x_test,y_train,y_test=train_test_split(data_x,data_y,test_size=0.3)\n",
    "    model1=DecisionTreeClassifier()\n",
    "    model1.fit(x_train,y_train)\n",
    "    print(metrics.accuracy_score(y_test,model1.predict(x_test)))\n",
    "    "
   ]
  },
  {
   "cell_type": "code",
   "execution_count": 16,
   "metadata": {},
   "outputs": [],
   "source": [
    "for i in range(10):\n",
    "    x_train,x_test,y_train,y_test=train_test_split(data_x,data_y,test_size=0.3)"
   ]
  },
  {
   "cell_type": "code",
   "execution_count": 17,
   "metadata": {},
   "outputs": [],
   "source": [
    "data=pd.read_csv('diabetes_reg_data.csv')"
   ]
  },
  {
   "cell_type": "code",
   "execution_count": 18,
   "metadata": {},
   "outputs": [
    {
     "data": {
      "text/html": [
       "<div>\n",
       "<style scoped>\n",
       "    .dataframe tbody tr th:only-of-type {\n",
       "        vertical-align: middle;\n",
       "    }\n",
       "\n",
       "    .dataframe tbody tr th {\n",
       "        vertical-align: top;\n",
       "    }\n",
       "\n",
       "    .dataframe thead th {\n",
       "        text-align: right;\n",
       "    }\n",
       "</style>\n",
       "<table border=\"1\" class=\"dataframe\">\n",
       "  <thead>\n",
       "    <tr style=\"text-align: right;\">\n",
       "      <th></th>\n",
       "      <th>age</th>\n",
       "      <th>sex</th>\n",
       "      <th>bmi</th>\n",
       "      <th>bp</th>\n",
       "      <th>s1</th>\n",
       "      <th>s2</th>\n",
       "      <th>s3</th>\n",
       "      <th>s4</th>\n",
       "      <th>s5</th>\n",
       "      <th>s6</th>\n",
       "      <th>target</th>\n",
       "    </tr>\n",
       "  </thead>\n",
       "  <tbody>\n",
       "    <tr>\n",
       "      <th>0</th>\n",
       "      <td>0.038076</td>\n",
       "      <td>0.05068</td>\n",
       "      <td>0.061696</td>\n",
       "      <td>0.021872</td>\n",
       "      <td>-0.044223</td>\n",
       "      <td>-0.034821</td>\n",
       "      <td>-0.043401</td>\n",
       "      <td>-0.002592</td>\n",
       "      <td>0.019908</td>\n",
       "      <td>-0.017646</td>\n",
       "      <td>151.0</td>\n",
       "    </tr>\n",
       "  </tbody>\n",
       "</table>\n",
       "</div>"
      ],
      "text/plain": [
       "        age      sex       bmi        bp        s1        s2        s3  \\\n",
       "0  0.038076  0.05068  0.061696  0.021872 -0.044223 -0.034821 -0.043401   \n",
       "\n",
       "         s4        s5        s6  target  \n",
       "0 -0.002592  0.019908 -0.017646   151.0  "
      ]
     },
     "execution_count": 18,
     "metadata": {},
     "output_type": "execute_result"
    }
   ],
   "source": [
    "data.head(1)"
   ]
  },
  {
   "cell_type": "code",
   "execution_count": 19,
   "metadata": {},
   "outputs": [],
   "source": [
    "data_x1=data[[col for col in data.columns if col!='target']]"
   ]
  },
  {
   "cell_type": "code",
   "execution_count": 20,
   "metadata": {},
   "outputs": [],
   "source": [
    "data_y1=data['target']"
   ]
  },
  {
   "cell_type": "code",
   "execution_count": 21,
   "metadata": {},
   "outputs": [],
   "source": [
    "x_train,x_test,y_train,y_test=train_test_split(data_x1,data_y1,test_size=0.3)"
   ]
  },
  {
   "cell_type": "code",
   "execution_count": 22,
   "metadata": {},
   "outputs": [],
   "source": [
    "model=RandomForestRegressor(1000).fit(x_train,y_train)"
   ]
  },
  {
   "cell_type": "code",
   "execution_count": 23,
   "metadata": {},
   "outputs": [
    {
     "data": {
      "text/plain": [
       "array([226.03 ,  96.014, 236.326, 145.843,  82.386, 234.821, 178.091,\n",
       "       263.555, 188.08 , 220.972,  79.84 , 156.352, 133.493, 189.132,\n",
       "       229.773, 203.755,  80.467, 107.842, 113.77 ,  91.579, 237.208,\n",
       "       107.293,  82.222, 159.171,  73.934, 220.816, 116.784, 243.551,\n",
       "        81.869, 150.915, 179.138, 141.721, 252.622, 220.707, 183.733,\n",
       "        84.784, 159.538, 274.799, 143.243, 225.02 , 186.347, 150.016,\n",
       "       182.525, 263.144,  85.368, 240.4  , 122.54 , 148.79 ,  82.085,\n",
       "       110.966, 266.403, 180.688, 240.069, 189.144, 141.832, 109.936,\n",
       "       162.709, 248.944, 229.292, 174.165, 177.247,  85.787,  74.543,\n",
       "        91.161, 219.161, 138.547, 159.702, 158.823, 101.354,  81.522,\n",
       "       164.129, 174.417, 207.119, 233.074, 150.094, 220.533,  83.266,\n",
       "        86.865, 157.697, 153.656, 177.882,  80.734, 235.969, 269.459,\n",
       "       149.115, 177.355,  89.428, 116.719, 129.651,  98.487, 169.942,\n",
       "       156.467, 123.099, 228.764, 224.925, 202.56 , 120.523, 150.767,\n",
       "       112.425,  80.794,  83.264, 155.931,  87.48 ,  93.295, 157.564,\n",
       "       211.836, 132.667,  84.196,  97.489, 181.724, 265.708, 121.85 ,\n",
       "       126.847, 205.684,  77.591,  87.819, 146.008, 102.545, 150.495,\n",
       "       194.854,  88.7  , 156.743, 267.097,  99.699, 189.861, 115.619,\n",
       "       238.241, 103.345, 212.631, 168.54 , 180.604, 153.695, 200.761])"
      ]
     },
     "execution_count": 23,
     "metadata": {},
     "output_type": "execute_result"
    }
   ],
   "source": [
    "model.predict(x_test)"
   ]
  },
  {
   "cell_type": "code",
   "execution_count": 24,
   "metadata": {},
   "outputs": [
    {
     "data": {
      "text/plain": [
       "3918.304748473684"
      ]
     },
     "execution_count": 24,
     "metadata": {},
     "output_type": "execute_result"
    }
   ],
   "source": [
    "metrics.mean_squared_error(y_test,model.predict(x_test))"
   ]
  },
  {
   "cell_type": "code",
   "execution_count": 25,
   "metadata": {},
   "outputs": [
    {
     "data": {
      "text/plain": [
       "50.71418796992482"
      ]
     },
     "execution_count": 25,
     "metadata": {},
     "output_type": "execute_result"
    }
   ],
   "source": [
    "metrics.mean_absolute_error(y_test,model.predict(x_test))"
   ]
  },
  {
   "cell_type": "code",
   "execution_count": 26,
   "metadata": {},
   "outputs": [
    {
     "data": {
      "text/plain": [
       "0.4458812505720524"
      ]
     },
     "execution_count": 26,
     "metadata": {},
     "output_type": "execute_result"
    }
   ],
   "source": [
    "np.mean(np.abs(model.predict(x_test)-y_test)/y_test)"
   ]
  },
  {
   "cell_type": "code",
   "execution_count": 27,
   "metadata": {},
   "outputs": [
    {
     "data": {
      "text/plain": [
       "0.2132726998294436"
      ]
     },
     "execution_count": 27,
     "metadata": {},
     "output_type": "execute_result"
    }
   ],
   "source": [
    "metrics.mean_squared_log_error(y_test,model.predict(x_test))"
   ]
  },
  {
   "cell_type": "code",
   "execution_count": 36,
   "metadata": {},
   "outputs": [
    {
     "name": "stdout",
     "output_type": "stream",
     "text": [
      "4117.934382842106\n",
      "\n",
      "52.28177443609023\n",
      "\n",
      "0.4692014349182118\n",
      "3295.4942497744364\n",
      "\n",
      "47.5407969924812\n",
      "\n",
      "0.4681122791604836\n",
      "3432.6886052857144\n",
      "\n",
      "48.09477443609022\n",
      "\n",
      "0.4728350773248858\n",
      "3135.999063894737\n",
      "\n",
      "46.33685714285714\n",
      "\n",
      "0.44490726772662614\n",
      "3334.3888992781954\n",
      "\n",
      "47.62807518796992\n",
      "\n",
      "0.3978069257385955\n",
      "3195.603704406015\n",
      "\n",
      "46.93554887218045\n",
      "\n",
      "0.4455872722105966\n",
      "3178.340260781955\n",
      "\n",
      "45.44669172932331\n",
      "\n",
      "0.4041693308494955\n",
      "3321.9638193233086\n",
      "\n",
      "47.7489022556391\n",
      "\n",
      "0.47341471937013896\n",
      "3654.7074000225566\n",
      "\n",
      "49.591646616541354\n",
      "\n",
      "0.4602001566754204\n",
      "3406.659284030075\n",
      "\n",
      "47.576466165413535\n",
      "\n",
      "0.4313460279501079\n",
      "3153.3750570827065\n",
      "\n",
      "45.88914285714285\n",
      "\n",
      "0.4138828175583769\n",
      "3245.1697831203005\n",
      "\n",
      "45.775601503759404\n",
      "\n",
      "0.43927017943180374\n",
      "3354.4408059774437\n",
      "\n",
      "45.53940601503759\n",
      "\n",
      "0.3427729629965631\n",
      "3799.6309494360908\n",
      "\n",
      "50.59524060150377\n",
      "\n",
      "0.3970908632595457\n",
      "3191.531768639098\n",
      "\n",
      "46.31161654135338\n",
      "\n",
      "0.39992607708742606\n",
      "3262.9961839548873\n",
      "\n",
      "46.817503759398505\n",
      "\n",
      "0.4320430397518094\n",
      "3092.3403462406013\n",
      "\n",
      "45.68237593984962\n",
      "\n",
      "0.45625179150920003\n",
      "3321.005066030075\n",
      "\n",
      "45.85362406015037\n",
      "\n",
      "0.4295873681708822\n",
      "3718.3099191428573\n",
      "\n",
      "49.64168421052631\n",
      "\n",
      "0.4872453152366167\n",
      "3187.800717488722\n",
      "\n",
      "46.276887218045104\n",
      "\n",
      "0.40594197238337504\n",
      "3228.3970761729324\n",
      "\n",
      "46.28027819548872\n",
      "\n",
      "0.4049520682021029\n",
      "3447.4570170902257\n",
      "\n",
      "48.50727067669173\n",
      "\n",
      "0.46671829377330576\n",
      "3328.4697684736843\n",
      "\n",
      "47.00217293233082\n",
      "\n",
      "0.43425048495076013\n",
      "3503.2015027969924\n",
      "\n",
      "48.277112781954884\n",
      "\n",
      "0.4571791865885456\n",
      "4066.323309406015\n",
      "\n",
      "51.32847368421053\n",
      "\n",
      "0.48881863329484143\n",
      "2860.213463661654\n",
      "\n",
      "43.96263909774436\n",
      "\n",
      "0.4642637245884724\n",
      "3140.824730556391\n",
      "\n",
      "45.73323308270677\n",
      "\n",
      "0.3956803815331116\n",
      "3025.4715551578947\n",
      "\n",
      "45.52378947368421\n",
      "\n",
      "0.47290113267700423\n",
      "3756.3719068721807\n",
      "\n",
      "49.52090225563909\n",
      "\n",
      "0.43197012710629923\n",
      "3423.826199067669\n",
      "\n",
      "46.33022556390978\n",
      "\n",
      "0.3762026853953108\n"
     ]
    }
   ],
   "source": [
    "l1=[]\n",
    "for i in range(30):\n",
    "    x_train,x_test,y_train,y_test=train_test_split(data_x1,data_y1,test_size=0.3)\n",
    "    model=RandomForestRegressor(1000).fit(x_train,y_train)\n",
    "    model.predict(x_test)\n",
    "    print(metrics.mean_squared_error(y_test,model.predict(x_test)))\n",
    "    print()\n",
    "    \n",
    "    \n",
    "    print(metrics.mean_absolute_error(y_test,model.predict(x_test)))\n",
    "    print()\n",
    "    \n",
    "    \n",
    "    print(np.mean(np.abs(model.predict(x_test)-y_test)/y_test))\n",
    "    l1.append(metrics.mean_squared_error(y_test,model.predict(x_test)))\n",
    "    \n",
    "    "
   ]
  },
  {
   "cell_type": "code",
   "execution_count": 35,
   "metadata": {},
   "outputs": [
    {
     "name": "stdout",
     "output_type": "stream",
     "text": [
      "6664.255639097744\n",
      "\n",
      "61.3984962406015\n",
      "\n",
      "0.5136462174775716\n",
      "6626.714285714285\n",
      "\n",
      "63.16541353383459\n",
      "\n",
      "0.627313900091889\n",
      "7157.4060150375935\n",
      "\n",
      "64.42857142857143\n",
      "\n",
      "0.5831379823352916\n",
      "4853.601503759399\n",
      "\n",
      "53.6015037593985\n",
      "\n",
      "0.48783845108541735\n",
      "7410.473684210527\n",
      "\n",
      "66.57894736842105\n",
      "\n",
      "0.6046443491427568\n",
      "6433.210526315789\n",
      "\n",
      "65.34586466165413\n",
      "\n",
      "0.5976726683018304\n",
      "5272.571428571428\n",
      "\n",
      "57.909774436090224\n",
      "\n",
      "0.43880881351309314\n",
      "6369.045112781955\n",
      "\n",
      "65.03007518796993\n",
      "\n",
      "0.5492890698795926\n",
      "6875.631578947368\n",
      "\n",
      "63.78195488721804\n",
      "\n",
      "0.5242076801016632\n",
      "6779.037593984963\n",
      "\n",
      "63.3984962406015\n",
      "\n",
      "0.5632708496887392\n",
      "7470.774436090225\n",
      "\n",
      "70.26315789473684\n",
      "\n",
      "0.5319484393147627\n",
      "5740.045112781955\n",
      "\n",
      "59.26315789473684\n",
      "\n",
      "0.4619251032318051\n",
      "7113.353383458647\n",
      "\n",
      "67.06766917293233\n",
      "\n",
      "0.610124382812187\n",
      "6603.0526315789475\n",
      "\n",
      "66.30075187969925\n",
      "\n",
      "0.5689402314517716\n",
      "8302.812030075187\n",
      "\n",
      "71.02255639097744\n",
      "\n",
      "0.6222069719306127\n",
      "6702.473684210527\n",
      "\n",
      "62.42857142857143\n",
      "\n",
      "0.537209339304189\n",
      "6861.744360902256\n",
      "\n",
      "63.11278195488722\n",
      "\n",
      "0.5112752218017196\n",
      "5752.9699248120305\n",
      "\n",
      "59.75187969924812\n",
      "\n",
      "0.45422722661582643\n",
      "5171.082706766917\n",
      "\n",
      "56.67669172932331\n",
      "\n",
      "0.4766119905399278\n",
      "6027.127819548872\n",
      "\n",
      "61.17293233082707\n",
      "\n",
      "0.507790155719229\n",
      "5965.857142857143\n",
      "\n",
      "63.045112781954884\n",
      "\n",
      "0.5259047167635602\n",
      "5552.503759398496\n",
      "\n",
      "56.41353383458647\n",
      "\n",
      "0.4642235544440808\n",
      "5264.300751879699\n",
      "\n",
      "57.3984962406015\n",
      "\n",
      "0.5442180913462175\n",
      "5551.917293233083\n",
      "\n",
      "60.067669172932334\n",
      "\n",
      "0.43762535852163725\n",
      "6459.751879699248\n",
      "\n",
      "64.86466165413533\n",
      "\n",
      "0.5524691880501503\n",
      "6172.0526315789475\n",
      "\n",
      "61.97744360902256\n",
      "\n",
      "0.5091739418074213\n",
      "6720.691729323308\n",
      "\n",
      "63.80451127819549\n",
      "\n",
      "0.550910645982549\n",
      "6571.736842105263\n",
      "\n",
      "63.81203007518797\n",
      "\n",
      "0.5819762428671922\n",
      "7011.150375939849\n",
      "\n",
      "65.07518796992481\n",
      "\n",
      "0.4780006073306161\n",
      "7357.338345864661\n",
      "\n",
      "68.19548872180451\n",
      "\n",
      "0.5512042801571042\n"
     ]
    }
   ],
   "source": [
    "l2=[]\n",
    "for i in range(30):\n",
    "    x_train,x_test,y_train,y_test=train_test_split(data_x1,data_y1,test_size=0.3)\n",
    "    model=DecisionTreeRegressor().fit(x_train,y_train)\n",
    "    model.predict(x_test)\n",
    "    print(metrics.mean_squared_error(y_test,model.predict(x_test)))\n",
    "    print()\n",
    "    print(metrics.mean_absolute_error(y_test,model.predict(x_test)))\n",
    "    print()\n",
    "    print(np.mean(np.abs(model.predict(x_test)-y_test)/y_test))\n",
    "    l2.append(metrics.mean_squared_error(y_test,model.predict(x_test)))\n",
    "    \n",
    "    \n",
    "    "
   ]
  },
  {
   "cell_type": "code",
   "execution_count": 32,
   "metadata": {},
   "outputs": [],
   "source": [
    "from sklearn.tree import DecisionTreeRegressor"
   ]
  },
  {
   "cell_type": "code",
   "execution_count": 37,
   "metadata": {},
   "outputs": [],
   "source": [
    "import seaborn as sns\n"
   ]
  },
  {
   "cell_type": "code",
   "execution_count": 38,
   "metadata": {},
   "outputs": [],
   "source": [
    "k=pd.DataFrame(columns=['f1','class'])"
   ]
  },
  {
   "cell_type": "code",
   "execution_count": 39,
   "metadata": {},
   "outputs": [],
   "source": [
    "k['f1']=l1+l2\n",
    "k['class']=['dt']*30+['rf']*30"
   ]
  },
  {
   "cell_type": "code",
   "execution_count": 43,
   "metadata": {},
   "outputs": [
    {
     "data": {
      "text/plain": [
       "<matplotlib.axes._subplots.AxesSubplot at 0x22a44ecdf28>"
      ]
     },
     "execution_count": 43,
     "metadata": {},
     "output_type": "execute_result"
    },
    {
     "data": {
      "image/png": "[encoded data removed]",
      "text/plain": [
       "<Figure size 432x288 with 1 Axes>"
      ]
     },
     "metadata": {
      "needs_background": "light"
     },
     "output_type": "display_data"
    }
   ],
   "source": [
    "sns.boxplot(k['class'],k['f1'],orient='V')"
   ]
  },
  {
   "cell_type": "code",
   "execution_count": 45,
   "metadata": {},
   "outputs": [
    {
     "name": "stdout",
     "output_type": "stream",
     "text": [
      "Wall time: 7.46 s\n",
      "3061.8468191654138\n"
     ]
    }
   ],
   "source": [
    "x_train,x_test,y_train,y_test=train_test_split(data_x1,data_y1,test_size=0.3)\n",
    "%time model=RandomForestRegressor(1000).fit(x_train,y_train)\n",
    "model.predict(x_test)\n",
    "print(metrics.mean_squared_error(y_test,model.predict(x_test)))"
   ]
  },
  {
   "cell_type": "code",
   "execution_count": 46,
   "metadata": {},
   "outputs": [
    {
     "name": "stdout",
     "output_type": "stream",
     "text": [
      "Wall time: 78.1 ms\n",
      "6004.766917293233\n"
     ]
    }
   ],
   "source": [
    "x_train,x_test,y_train,y_test=train_test_split(data_x1,data_y1,test_size=0.3)\n",
    "%time model=DecisionTreeRegressor().fit(x_train,y_train)\n",
    "model.predict(x_test)\n",
    "print(metrics.mean_squared_error(y_test,model.predict(x_test)))"
   ]
  },
  {
   "cell_type": "code",
   "execution_count": null,
   "metadata": {},
   "outputs": [],
   "source": []
  }
 ],
 "metadata": {
  "kernelspec": {
   "display_name": "Python 3",
   "language": "python",
   "name": "python3"
  },
  "language_info": {
   "codemirror_mode": {
    "name": "ipython",
    "version": 3
   },
   "file_extension": ".py",
   "mimetype": "text/x-python",
   "name": "python",
   "nbconvert_exporter": "python",
   "pygments_lexer": "ipython3",
   "version": "3.7.3"
  }
 },
 "nbformat": 4,
 "nbformat_minor": 2
}
